{
 "cells": [
  {
   "cell_type": "code",
   "execution_count": 1,
   "id": "ad5f01e4",
   "metadata": {},
   "outputs": [
    {
     "name": "stdout",
     "output_type": "stream",
     "text": [
      "Collecting PyPDF2"
     ]
    },
    {
     "name": "stderr",
     "output_type": "stream",
     "text": [
      "WARNING: You are using pip version 21.1.1; however, version 21.1.2 is available.\n",
      "You should consider upgrading via the 'c:\\users\\riyaz\\appdata\\local\\programs\\python\\python38\\python.exe -m pip install --upgrade pip' command.\n"
     ]
    },
    {
     "name": "stdout",
     "output_type": "stream",
     "text": [
      "\n",
      "  Downloading PyPDF2-1.26.0.tar.gz (77 kB)\n",
      "Using legacy 'setup.py install' for PyPDF2, since package 'wheel' is not installed.\n",
      "Installing collected packages: PyPDF2\n",
      "    Running setup.py install for PyPDF2: started\n",
      "    Running setup.py install for PyPDF2: finished with status 'done'\n",
      "Successfully installed PyPDF2-1.26.0\n"
     ]
    }
   ],
   "source": [
    "! pip install PyPDF2\n"
   ]
  },
  {
   "cell_type": "code",
   "execution_count": 57,
   "id": "802247c2",
   "metadata": {},
   "outputs": [
    {
     "name": "stdout",
     "output_type": "stream",
     "text": [
      "20\n",
      "PythonBasics\n",
      "S.R.Doty\n",
      "August27,2008\n",
      "Contents\n",
      "\n",
      "1Preliminaries\n",
      "4\n",
      "1.1WhatisPython?...................................\n",
      "..4\n",
      "1.2Installationanddocumentation....................\n",
      ".........4\n",
      "2Gettingstarted\n",
      "4\n",
      "2.1RunningPythonasacalculator......................\n",
      ".......4\n",
      "2.2Quittingtheinterpreter..........................\n",
      ".......6\n",
      "2.3Loadingcommandsfromthelibrary...................\n",
      "........6\n",
      "2.4Deningfunctions................................\n",
      ".....7\n",
      "2.5Files...........................................\n",
      ".8\n",
      "2.6Testingcode.....................................\n",
      "...8\n",
      "2.7Scripts.........................................\n",
      "..8\n",
      "1\n",
      "\n"
     ]
    }
   ],
   "source": [
    "import  PyPDF2\n",
    "main=open(\"example.pdf\",\"rb\")\n",
    "read=PyPDF2.PdfFileReader(main)\n",
    "print(read.numPages)\n",
    "page=read.getPage(0)\n",
    "data=page.extractText()\n",
    "print(data)"
   ]
  },
  {
   "cell_type": "markdown",
   "id": "b010e0ca",
   "metadata": {},
   "source": [
    "# reading pdf files and extracting the data"
   ]
  },
  {
   "cell_type": "code",
   "execution_count": 20,
   "id": "45a0e403",
   "metadata": {},
   "outputs": [
    {
     "name": "stdout",
     "output_type": "stream",
     "text": [
      "20\n",
      "PythonBasics\n",
      "S.R.Doty\n",
      "August27,2008\n",
      "Contents\n",
      "\n",
      "1Preliminaries\n",
      "4\n",
      "1.1WhatisPython?...................................\n",
      "..4\n",
      "1.2Installationanddocumentation....................\n",
      ".........4\n",
      "2Gettingstarted\n",
      "4\n",
      "2.1RunningPythonasacalculator......................\n",
      ".......4\n",
      "2.2Quittingtheinterpreter..........................\n",
      ".......6\n",
      "2.3Loadingcommandsfromthelibrary...................\n",
      "........6\n",
      "2.4Deningfunctions................................\n",
      ".....7\n",
      "2.5Files...........................................\n",
      ".8\n",
      "2.6Testingcode.....................................\n",
      "...8\n",
      "2.7Scripts.........................................\n",
      "..8\n",
      "1\n",
      "\n"
     ]
    }
   ],
   "source": [
    "import PyPDF2\n",
    "sample=open(\"example.pdf\",\"rb\")\n",
    "read=PyPDF2.PdfFileReader(sample)\n",
    "print(read.numPages)\n",
    "data=read.getPage(0)\n",
    "final_data=data.extractText()\n",
    "print(final_data)"
   ]
  },
  {
   "cell_type": "markdown",
   "id": "683e822c",
   "metadata": {},
   "source": [
    "# working with tabular data"
   ]
  },
  {
   "cell_type": "code",
   "execution_count": 11,
   "id": "85b5fddd",
   "metadata": {},
   "outputs": [
    {
     "name": "stdout",
     "output_type": "stream",
     "text": [
      "Collecting tabula-py"
     ]
    },
    {
     "name": "stderr",
     "output_type": "stream",
     "text": [
      "WARNING: You are using pip version 21.1.1; however, version 21.1.2 is available.\n",
      "You should consider upgrading via the 'c:\\users\\riyaz\\appdata\\local\\programs\\python\\python38\\python.exe -m pip install --upgrade pip' command.\n"
     ]
    },
    {
     "name": "stdout",
     "output_type": "stream",
     "text": [
      "\n",
      "  Downloading tabula_py-2.2.0-py3-none-any.whl (11.7 MB)\n",
      "Collecting distro\n",
      "  Downloading distro-1.5.0-py2.py3-none-any.whl (18 kB)\n",
      "Requirement already satisfied: pandas>=0.25.3 in c:\\users\\riyaz\\appdata\\local\\programs\\python\\python38\\lib\\site-packages (from tabula-py) (1.2.4)\n",
      "Requirement already satisfied: numpy in c:\\users\\riyaz\\appdata\\local\\programs\\python\\python38\\lib\\site-packages (from tabula-py) (1.20.3)\n",
      "Requirement already satisfied: pytz>=2017.3 in c:\\users\\riyaz\\appdata\\local\\programs\\python\\python38\\lib\\site-packages (from pandas>=0.25.3->tabula-py) (2021.1)\n",
      "Requirement already satisfied: python-dateutil>=2.7.3 in c:\\users\\riyaz\\appdata\\local\\programs\\python\\python38\\lib\\site-packages (from pandas>=0.25.3->tabula-py) (2.8.1)\n",
      "Requirement already satisfied: six>=1.5 in c:\\users\\riyaz\\appdata\\local\\programs\\python\\python38\\lib\\site-packages (from python-dateutil>=2.7.3->pandas>=0.25.3->tabula-py) (1.16.0)\n",
      "Installing collected packages: distro, tabula-py\n",
      "Successfully installed distro-1.5.0 tabula-py-2.2.0\n"
     ]
    }
   ],
   "source": [
    "! pip install tabula-py"
   ]
  },
  {
   "cell_type": "code",
   "execution_count": 17,
   "id": "fa600b07",
   "metadata": {},
   "outputs": [],
   "source": [
    "#have to install java for this module\n",
    "import tabula\n",
    "#data=tabula.read_pdf(\"offense.pdf\")\n",
    "#data.head()"
   ]
  },
  {
   "cell_type": "markdown",
   "id": "0c6f632b",
   "metadata": {},
   "source": [
    "# merge two pdf files"
   ]
  },
  {
   "cell_type": "code",
   "execution_count": 27,
   "id": "c8079b8e",
   "metadata": {},
   "outputs": [],
   "source": [
    "# 1.pdf\n",
    "# 2.pdf\n",
    "from PyPDF2 import PdfFileMerger\n",
    "\n",
    "pdfs=[\"1.pdf\",\"2.pdf\"]\n",
    "\n",
    "merge=PdfFileMerger()\n",
    "for pdf in pdfs:\n",
    "    merge.append(pdf)\n",
    "merge.write(\"merge.pdf\")\n",
    "merge.close()"
   ]
  },
  {
   "cell_type": "markdown",
   "id": "cf42b901",
   "metadata": {},
   "source": [
    "# listing out the files in path/dir and merging specific pdfs "
   ]
  },
  {
   "cell_type": "code",
   "execution_count": null,
   "id": "a1283152",
   "metadata": {},
   "outputs": [],
   "source": [
    "from PyPDF2 import  PdfFileMerger\n",
    "import os\n",
    "path=os.getcwd()\n",
    "pdfs=[]\n",
    "#finding the files in directory and merging specifi file startswith 1.pdf and 2.pdf \n",
    "for i in os.listdir(path):\n",
    "    if i.startswith(\"1\")|i.startswith(\"2\") :\n",
    "        pdfs.append(i)\n",
    "print(pdfs)\n",
    "merge=PdfFileMerger()\n",
    "for pdf in pdfs:\n",
    "    merge.append(pdf)\n",
    "merge.write(\"merge_du.pdf\")\n",
    "merge.close()\n",
    "      "
   ]
  },
  {
   "cell_type": "markdown",
   "id": "0dd9d563",
   "metadata": {},
   "source": [
    "# rotate the pdf "
   ]
  },
  {
   "cell_type": "code",
   "execution_count": 56,
   "id": "365b6cf1",
   "metadata": {},
   "outputs": [
    {
     "name": "stdout",
     "output_type": "stream",
     "text": [
      "2\n",
      "successfully rotated\n"
     ]
    }
   ],
   "source": [
    "from PyPDF2 import PdfFileReader,PdfFileWriter\n",
    "present_file=\"1.pdf\"\n",
    "rotate_file=open(\"rotate_pdf.pdf\",\"wb\")\n",
    "reader=PdfFileReader(present_file)\n",
    "writer=PdfFileWriter() # empty pdf\n",
    "page=reader.numPages\n",
    "print(page)\n",
    "get_first_page=reader.getPage(0)\n",
    "get_first_page.rotateClockwise(90)\n",
    "writer.addPage(get_first_page)\n",
    "writer.write(rotate_file)\n",
    "rotate_file.close()\n",
    "print(\"successfully rotated\")\n",
    "#print(get_first_page.extractText())\n",
    "\n"
   ]
  },
  {
   "cell_type": "code",
   "execution_count": null,
   "id": "2d360c49",
   "metadata": {},
   "outputs": [],
   "source": []
  }
 ],
 "metadata": {
  "kernelspec": {
   "display_name": "Python 3",
   "language": "python",
   "name": "python3"
  },
  "language_info": {
   "codemirror_mode": {
    "name": "ipython",
    "version": 3
   },
   "file_extension": ".py",
   "mimetype": "text/x-python",
   "name": "python",
   "nbconvert_exporter": "python",
   "pygments_lexer": "ipython3",
   "version": "3.8.9"
  }
 },
 "nbformat": 4,
 "nbformat_minor": 5
}
